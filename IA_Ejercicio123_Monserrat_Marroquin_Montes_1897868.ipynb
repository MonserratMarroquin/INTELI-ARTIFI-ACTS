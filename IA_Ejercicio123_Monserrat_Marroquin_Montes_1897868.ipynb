{
  "nbformat": 4,
  "nbformat_minor": 0,
  "metadata": {
    "colab": {
      "provenance": [],
      "authorship_tag": "ABX9TyOxdB7mBsYWj4QT+iKb2D3U",
      "include_colab_link": true
    },
    "kernelspec": {
      "name": "python3",
      "display_name": "Python 3"
    },
    "language_info": {
      "name": "python"
    }
  },
  "cells": [
    {
      "cell_type": "markdown",
      "metadata": {
        "id": "view-in-github",
        "colab_type": "text"
      },
      "source": [
        "<a href=\"https://colab.research.google.com/github/MonserratMarroquin/INTELI-ARTIFI-ACTS/blob/main/IA_Ejercicio123_Monserrat_Marroquin_Montes_1897868.ipynb\" target=\"_parent\"><img src=\"https://colab.research.google.com/assets/colab-badge.svg\" alt=\"Open In Colab\"/></a>"
      ]
    },
    {
      "cell_type": "markdown",
      "source": [
        "# A2. Ejercicios en Python 1\n",
        "Monserrat Marroquin Montes 1897868 N5\n",
        "\n",
        "1. *Escribe un programa que le pida al usuario por su nombre y que lo salude con su nombre, excepto si se llama “Ana”, “Juan”, y “Pedro”.*"
      ],
      "metadata": {
        "id": "wvMCxbpeJq16"
      }
    },
    {
      "cell_type": "code",
      "execution_count": 10,
      "metadata": {
        "colab": {
          "base_uri": "https://localhost:8080/"
        },
        "id": "SYnAKihAI-Y5",
        "outputId": "1c1a2ac0-09d5-45fa-ae3c-30d48ec99320"
      },
      "outputs": [
        {
          "output_type": "stream",
          "name": "stdout",
          "text": [
            "Escriba Su Nombre\n",
            "Juan\n",
            "No hay saludo para ti, adiós\n"
          ]
        }
      ],
      "source": [
        "print('Escriba Su Nombre')\n",
        "nombre=input()\n",
        "if (nombre=='Ana' or nombre=='Juan' or nombre=='Pedro'):\n",
        "  print ('No hay saludo para ti, adiós')\n",
        "else:\n",
        "  print ('¡Hola! '+nombre )"
      ]
    },
    {
      "cell_type": "markdown",
      "source": [
        "2. *Escribe una función que regrese el último elemento de una lista y que revierta el orden de la lista e imprima la lista revertida.*\n"
      ],
      "metadata": {
        "id": "F72I3WfxSq7l"
      }
    },
    {
      "cell_type": "code",
      "source": [
        "def ultimoselementos():\n",
        "  Lista=(1,2,3,4,5)\n",
        "  Ultimo=Lista[-1]\n",
        "  z=len(Lista)\n",
        "  x=-1\n",
        "  y=0\n",
        "  Acomodolista=[]\n",
        "  while y<z:\n",
        "    Acomodolista.extend([Lista[x]])\n",
        "    x=x-1\n",
        "    z=z-1\n",
        "  print('Lista invertida:')\n",
        "  print(Acomodolista)\n",
        "  print('Ultimo número de la lista:')\n",
        "  return Ultimo\n",
        "res= ultimoselementos()\n",
        "print(res)\n",
        "\n",
        "\n"
      ],
      "metadata": {
        "colab": {
          "base_uri": "https://localhost:8080/"
        },
        "id": "5x6cUn-eTgBi",
        "outputId": "7ad559a8-6fb9-4813-f455-ad2892c966b1"
      },
      "execution_count": 15,
      "outputs": [
        {
          "output_type": "stream",
          "name": "stdout",
          "text": [
            "Lista invertida:\n",
            "[5, 4, 3, 2, 1]\n",
            "Ultimo número de la lista:\n",
            "5\n"
          ]
        }
      ]
    },
    {
      "cell_type": "markdown",
      "source": [
        "3. *Escribe una función que toma una lista de strings y los imprima línea por línea en un marco rectangular. Por ejemplo, la lista [“Hola”, “a”, “todos”, “esto”, “es”, “un”, “marco”]*"
      ],
      "metadata": {
        "id": "J__jVBmpXLL_"
      }
    },
    {
      "cell_type": "code",
      "source": [
        "def imprime(marco):\n",
        "  for x in marco:\n",
        "    print(x)\n",
        "marco=['*******', '*Hola  *', '*a     *','*todos *','*esto  *','*Es    *','*un    *', '*marco *', '*******'];\n",
        "\n",
        "imprime(marco)\n",
        "    \n",
        "\n",
        "\n",
        "  \n"
      ],
      "metadata": {
        "colab": {
          "base_uri": "https://localhost:8080/"
        },
        "id": "GQUF-IGzXV1J",
        "outputId": "dca0fcd5-0b72-4329-8d7f-e04e2fa42e20"
      },
      "execution_count": 47,
      "outputs": [
        {
          "output_type": "stream",
          "name": "stdout",
          "text": [
            "*******\n",
            "*Hola  *\n",
            "*a     *\n",
            "*todos *\n",
            "*esto  *\n",
            "*Es    *\n",
            "*un    *\n",
            "*marco *\n",
            "*******\n"
          ]
        }
      ]
    }
  ]
}